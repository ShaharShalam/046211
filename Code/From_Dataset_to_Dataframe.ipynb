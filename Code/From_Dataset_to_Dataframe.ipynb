{
  "nbformat": 4,
  "nbformat_minor": 0,
  "metadata": {
    "colab": {
      "provenance": []
    },
    "kernelspec": {
      "name": "python3",
      "display_name": "Python 3"
    },
    "language_info": {
      "name": "python"
    }
  },
  "cells": [
    {
      "cell_type": "code",
      "source": [
        "import os\n",
        "import pandas as pd\n",
        "from PIL import Image"
      ],
      "metadata": {
        "id": "iVkkZsHAOHBk"
      },
      "execution_count": 1,
      "outputs": []
    },
    {
      "cell_type": "code",
      "execution_count": 3,
      "metadata": {
        "id": "4har2vBqMrEh"
      },
      "outputs": [],
      "source": [
        "def load_image_dataset(root_dir):\n",
        "    data = []\n",
        "    labels = []\n",
        "\n",
        "    for label in os.listdir(root_dir):\n",
        "        class_dir = os.path.join(root_dir, label)\n",
        "        if os.path.isdir(class_dir):\n",
        "            for image_name in os.listdir(class_dir):\n",
        "                image_path = os.path.join(class_dir, image_name)\n",
        "                try:\n",
        "                    image = Image.open(image_path)\n",
        "                    data.append(image)\n",
        "                    labels.append(label)\n",
        "                except Exception as e:\n",
        "                    print(f\"Error loading image {image_path}: {e}\")\n",
        "\n",
        "    return pd.DataFrame({'image': data, 'label': labels})"
      ]
    },
    {
      "cell_type": "code",
      "source": [
        "from google.colab import drive\n",
        "drive.mount('/content/drive')\n",
        "dataset_path = '/content/drive/My Drive/046211/Project/IMG_CLASSES'\n",
        "df = load_image_dataset(dataset_path)\n",
        "\n",
        "print(df)"
      ],
      "metadata": {
        "colab": {
          "base_uri": "https://localhost:8080/"
        },
        "id": "7RZd8kZKOHuD",
        "outputId": "43f9be2f-43b4-42f7-ed42-730dd48f1cc3"
      },
      "execution_count": 12,
      "outputs": [
        {
          "output_type": "stream",
          "name": "stdout",
          "text": [
            "Drive already mounted at /content/drive; to attempt to forcibly remount, call drive.mount(\"/content/drive\", force_remount=True).\n",
            "                                                 image           label\n",
            "0    <PIL.JpegImagePlugin.JpegImageFile image mode=...  1. Eczema 1677\n",
            "1    <PIL.JpegImagePlugin.JpegImageFile image mode=...  1. Eczema 1677\n",
            "2    <PIL.JpegImagePlugin.JpegImageFile image mode=...  1. Eczema 1677\n",
            "3    <PIL.JpegImagePlugin.JpegImageFile image mode=...  1. Eczema 1677\n",
            "4    <PIL.JpegImagePlugin.JpegImageFile image mode=...  1. Eczema 1677\n",
            "..                                                 ...             ...\n",
            "354  <PIL.JpegImagePlugin.JpegImageFile image mode=...  1. Eczema 1677\n",
            "355  <PIL.JpegImagePlugin.JpegImageFile image mode=...  1. Eczema 1677\n",
            "356  <PIL.JpegImagePlugin.JpegImageFile image mode=...  1. Eczema 1677\n",
            "357  <PIL.JpegImagePlugin.JpegImageFile image mode=...  1. Eczema 1677\n",
            "358  <PIL.JpegImagePlugin.JpegImageFile image mode=...  1. Eczema 1677\n",
            "\n",
            "[359 rows x 2 columns]\n"
          ]
        }
      ]
    }
  ]
}