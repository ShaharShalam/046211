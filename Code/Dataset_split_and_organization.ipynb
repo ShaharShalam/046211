{
  "nbformat": 4,
  "nbformat_minor": 0,
  "metadata": {
    "colab": {
      "provenance": [],
      "machine_shape": "hm",
      "gpuType": "T4"
    },
    "kernelspec": {
      "name": "python3",
      "display_name": "Python 3"
    },
    "language_info": {
      "name": "python"
    },
    "accelerator": "GPU"
  },
  "cells": [
    {
      "cell_type": "code",
      "source": [
        "import os\n",
        "import pandas as pd\n",
        "from PIL import Image\n",
        "from sklearn.model_selection import train_test_split\n",
        "from torch.utils.data import DataLoader\n",
        "from torchvision.datasets import ImageFolder\n",
        "import torch\n",
        "import torchvision.transforms as transforms\n",
        "import shutil\n",
        "import torch.nn as nn\n",
        "import torch.nn.functional as F\n",
        "import time\n",
        "import copy"
      ],
      "metadata": {
        "id": "iVkkZsHAOHBk"
      },
      "execution_count": 29,
      "outputs": []
    },
    {
      "cell_type": "code",
      "execution_count": 5,
      "metadata": {
        "id": "4har2vBqMrEh"
      },
      "outputs": [],
      "source": [
        "def load_image_dataset(root_dir):\n",
        "    data = []\n",
        "    labels = []\n",
        "\n",
        "    for label in os.listdir(root_dir):\n",
        "        class_dir = os.path.join(root_dir, label)\n",
        "        if os.path.isdir(class_dir):\n",
        "            for image_name in os.listdir(class_dir):\n",
        "                image_path = os.path.join(class_dir, image_name)\n",
        "                try:\n",
        "                    data.append(image_path)\n",
        "                    labels.append(label)\n",
        "                except Exception as e:\n",
        "                    print(f\"Error loading image {image_path}: {e}\")\n",
        "\n",
        "    return pd.DataFrame({'image': data, 'label': labels})"
      ]
    },
    {
      "cell_type": "code",
      "source": [
        "from google.colab import drive\n",
        "drive.mount('/content/drive')\n",
        "dataset_path = '/content/drive/My Drive/046211/Project'\n",
        "df = load_image_dataset(dataset_path)\n",
        "print(df)"
      ],
      "metadata": {
        "colab": {
          "base_uri": "https://localhost:8080/"
        },
        "id": "7RZd8kZKOHuD",
        "outputId": "5374994a-08f2-4e76-90f1-b2ba9d07a971"
      },
      "execution_count": 6,
      "outputs": [
        {
          "output_type": "stream",
          "name": "stdout",
          "text": [
            "Drive already mounted at /content/drive; to attempt to forcibly remount, call drive.mount(\"/content/drive\", force_remount=True).\n",
            "                                                   image  \\\n",
            "0      /content/drive/My Drive/046211/Project/9. Tine...   \n",
            "1      /content/drive/My Drive/046211/Project/9. Tine...   \n",
            "2      /content/drive/My Drive/046211/Project/9. Tine...   \n",
            "3      /content/drive/My Drive/046211/Project/9. Tine...   \n",
            "4      /content/drive/My Drive/046211/Project/9. Tine...   \n",
            "...                                                  ...   \n",
            "27148  /content/drive/My Drive/046211/Project/1. Ecze...   \n",
            "27149  /content/drive/My Drive/046211/Project/1. Ecze...   \n",
            "27150  /content/drive/My Drive/046211/Project/1. Ecze...   \n",
            "27151  /content/drive/My Drive/046211/Project/1. Ecze...   \n",
            "27152  /content/drive/My Drive/046211/Project/1. Ecze...   \n",
            "\n",
            "                                                   label  \n",
            "0      9. Tinea Ringworm Candidiasis and other Fungal...  \n",
            "1      9. Tinea Ringworm Candidiasis and other Fungal...  \n",
            "2      9. Tinea Ringworm Candidiasis and other Fungal...  \n",
            "3      9. Tinea Ringworm Candidiasis and other Fungal...  \n",
            "4      9. Tinea Ringworm Candidiasis and other Fungal...  \n",
            "...                                                  ...  \n",
            "27148                                     1. Eczema 1677  \n",
            "27149                                     1. Eczema 1677  \n",
            "27150                                     1. Eczema 1677  \n",
            "27151                                     1. Eczema 1677  \n",
            "27152                                     1. Eczema 1677  \n",
            "\n",
            "[27153 rows x 2 columns]\n"
          ]
        }
      ]
    },
    {
      "cell_type": "code",
      "source": [
        "print(df[\"label\"].value_counts())"
      ],
      "metadata": {
        "id": "8PFcPt7bFTrn",
        "outputId": "223a05f7-6d8a-4ef0-a636-34164f51e638",
        "colab": {
          "base_uri": "https://localhost:8080/"
        }
      },
      "execution_count": 7,
      "outputs": [
        {
          "output_type": "stream",
          "name": "stdout",
          "text": [
            "label\n",
            "5. Melanocytic Nevi (NV) - 7970                                     7970\n",
            "4. Basal Cell Carcinoma (BCC) 3323                                  3323\n",
            "2. Melanoma 15.75k                                                  3140\n",
            "10. Warts Molluscum and other Viral Infections - 2103               2103\n",
            "6. Benign Keratosis-like Lesions (BKL) 2624                         2079\n",
            "7. Psoriasis pictures Lichen Planus and related diseases - 2k       2055\n",
            "8. Seborrheic Keratoses and other Benign Tumors - 1.8k              1847\n",
            "9. Tinea Ringworm Candidiasis and other Fungal Infections - 1.7k    1702\n",
            "1. Eczema 1677                                                      1677\n",
            "3. Atopic Dermatitis - 1.25k                                        1257\n",
            "Name: count, dtype: int64\n"
          ]
        }
      ]
    },
    {
      "cell_type": "code",
      "source": [
        "train_images, rest_images = train_test_split(df, test_size=0.3, random_state=42)\n",
        "val_images, test_images = train_test_split(rest_images, test_size=2/3, random_state=42)"
      ],
      "metadata": {
        "id": "8Oo02byFFgUP"
      },
      "execution_count": 20,
      "outputs": []
    },
    {
      "cell_type": "code",
      "source": [
        "# Create directories\n",
        "base_path = '/content/drive/My Drive/046211/Project'\n",
        "for split in ['train', 'val', 'test']:\n",
        "    os.makedirs(os.path.join(base_path, split), exist_ok=True)"
      ],
      "metadata": {
        "id": "_08WjdYva5lF"
      },
      "execution_count": null,
      "outputs": []
    },
    {
      "cell_type": "code",
      "source": [
        "# Function to move images and update DataFrame paths\n",
        "def move_and_update_paths(df, split_name):\n",
        "    new_paths = []\n",
        "    for _, row in df.iterrows():\n",
        "        src = row['image']\n",
        "        # Construct new path\n",
        "        new_path = os.path.join(base_path, split_name, os.path.basename(src))\n",
        "        # Move image\n",
        "        shutil.copy(src, new_path)\n",
        "        new_paths.append(new_path)\n",
        "    df['image'] = new_paths\n",
        "\n",
        "# Move images to respective directories\n",
        "#move_and_update_paths(train_images, 'train')\n",
        "move_and_update_paths(val_images, 'val')\n",
        "move_and_update_paths(test_images, 'test')"
      ],
      "metadata": {
        "id": "8BmcgLUUkg66"
      },
      "execution_count": 34,
      "outputs": []
    },
    {
      "cell_type": "code",
      "source": [
        "# Save DataFrames to Google Drive\n",
        "#train_images.to_csv(os.path.join(base_path, 'train_images.csv'), index=False)\n",
        "val_images.to_csv(os.path.join(base_path, 'val_images.csv'), index=False)\n",
        "test_images.to_csv(os.path.join(base_path, 'test_images.csv'), index=False)"
      ],
      "metadata": {
        "id": "rWVhuTO6KoUB"
      },
      "execution_count": 35,
      "outputs": []
    }
  ]
}